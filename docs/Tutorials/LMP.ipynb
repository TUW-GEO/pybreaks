{
 "cells": [
  {
   "cell_type": "markdown",
   "metadata": {},
   "source": [
    "# RegressPairFit\n",
    "This module implements the adjustment based on fitting 2 linear regression models."
   ]
  },
  {
   "cell_type": "code",
   "execution_count": 1,
   "metadata": {},
   "outputs": [],
   "source": [
    "from set_up import *\n",
    "pd.options.display.max_rows=7\n",
    "import matplotlib.pyplot as plt\n",
    "from IPython.display import display\n",
    "import ipywidgets as widgets\n",
    "from ipywidgets import interact, interact_manual\n",
    "\n",
    "# Specific for this module\n",
    "from pybreaks.adjust_linear_model_pair_fitting import RegressPairFit"
   ]
  },
  {
   "cell_type": "code",
   "execution_count": 2,
   "metadata": {},
   "outputs": [],
   "source": [
    "# this cell loads either test data with properties as set by the user or real data and allows to introduce a break\n",
    "def load_data(real=False, trend=0.01, bias=0.1, breaktime=datetime(2012,7,1), \n",
    "              size=(0.2, 1.1), resample=False):\n",
    "    if real:\n",
    "        CAN, REF = load_real_data(707393, breaktime, size, resample)\n",
    "    else:\n",
    "        CAN, REF = load_test_data(trend, bias, breaktime, size, resample, seed=1234)\n",
    "    return CAN, REF"
   ]
  },
  {
   "cell_type": "code",
   "execution_count": 3,
   "metadata": {},
   "outputs": [
    {
     "data": {
      "application/vnd.jupyter.widget-view+json": {
       "model_id": "4e048f0c147d4d5ebf1ade1ce3731351",
       "version_major": 2,
       "version_minor": 0
      },
      "text/plain": [
       "aW50ZXJhY3RpdmUoY2hpbGRyZW49KENoZWNrYm94KHZhbHVlPUZhbHNlLCBkZXNjcmlwdGlvbj11J1VTRV9SRUFMX0RBVEEnKSwgRmxvYXRTbGlkZXIodmFsdWU9MC4wMSwgZGVzY3JpcHRpb27igKY=\n"
      ]
     },
     "metadata": {},
     "output_type": "display_data"
    }
   ],
   "source": [
    "interpol_methods = ['linear', 'poly2', 'poly3', 'nearest', 'zero', 'slinear', \n",
    "                    'quadratic', 'cubic', 'previous', 'next']\n",
    "\n",
    "@interact(TREND=(0, 0.05, 0.01), BIAS=(-0.5, 0.5, 0.1), BREAK_ADD=(-0.4, 0.4, 0.05), \n",
    "          BREAK_MULT=(0.7, 1.3, 0.05), RESAMPLE=['NONE', 'INPUT', 'OUTPUT'],\n",
    "          INTERPOLATION_METHOD=interpol_methods)\n",
    "\n",
    "def LMP(USE_REAL_DATA=False, TESTDATA_TREND=0.01, TESTDATA_BIAS=0.1, BREAK_ADD=0.2, \n",
    "        BREAK_MULT=1.1, RESAMPLE_CORRECTIONS=True, INTERPOLATION_METHOD='linear', \n",
    "        RESAMPLE='NONE'):\n",
    "    \n",
    "    BREAKTIME=datetime(2012,7,1)\n",
    "    size=(BREAK_ADD, BREAK_MULT)\n",
    "    \n",
    "    resample = True if RESAMPLE=='INPUT' else False\n",
    "    CAN, REF = load_data(USE_REAL_DATA, TESTDATA_TREND, TESTDATA_BIAS, BREAKTIME, size, \n",
    "                         resample)\n",
    "    \n",
    "    lmp = RegressPairFit(CAN, REF, BREAKTIME, candidate_freq='M' if resample else 'D',\n",
    "                         regress_resample=None, bias_corr_method='cdf_match',\n",
    "                         filter=('both', 5), adjust_group=0, model_intercept=True)\n",
    "    \n",
    "    can_adjusted = lmp.adjust(CAN.loc[:BREAKTIME], True, 'M' if resample else 'D',\n",
    "                              RESAMPLE_CORRECTIONS, INTERPOLATION_METHOD)\n",
    "    \n",
    "    ##plotting##\n",
    "    fig, (ax1) = plt.subplots(1,1, figsize=(15,4)) \n",
    "    if RESAMPLE == 'OUTPUT':\n",
    "        lmp.df_original.resample('M').mean().plot(ax=ax1)\n",
    "    else:\n",
    "        lmp.df_original.plot(ax=ax1)\n",
    "    \n",
    "    fig, (ax1,ax2) = plt.subplots(1, 2, figsize=(15,4))\n",
    "    lmp.plot_models(axs=[ax1, ax2])\n",
    "    \n",
    "    fig, (ax1, ax2) = plt.subplots(1,2, figsize=(15,4))\n",
    "    lmp.plot_adjustments(ax=ax2)\n",
    "    \n",
    "   "
   ]
  },
  {
   "cell_type": "code",
   "execution_count": null,
   "metadata": {},
   "outputs": [],
   "source": []
  }
 ],
 "metadata": {
  "kernelspec": {
   "display_name": "Python 2",
   "language": "python",
   "name": "python2"
  },
  "language_info": {
   "codemirror_mode": {
    "name": "ipython",
    "version": 2
   },
   "file_extension": ".py",
   "mimetype": "text/x-python",
   "name": "python",
   "nbconvert_exporter": "python",
   "pygments_lexer": "ipython2",
   "version": "2.7.15"
  },
  "pycharm": {
   "stem_cell": {
    "cell_type": "raw",
    "source": [],
    "metadata": {
     "collapsed": false
    }
   }
  }
 },
 "nbformat": 4,
 "nbformat_minor": 2
}