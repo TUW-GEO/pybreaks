{
 "cells": [
  {
   "cell_type": "markdown",
   "metadata": {},
   "source": [
    "# Higher Order Moments Correction\n",
    "This module implements the adjustment based CDF matching with homogeneous predictions from a polynomial regression model."
   ]
  },
  {
   "cell_type": "code",
   "execution_count": 1,
   "metadata": {},
   "outputs": [],
   "source": [
    "from set_up import *\n",
    "from pybreaks.adjust_higher_order_moments import HigherOrderMoments\n",
    "pd.options.display.max_rows=7\n",
    "import matplotlib.pyplot as plt\n",
    "from IPython.display import display\n",
    "import ipywidgets as widgets\n",
    "from ipywidgets import interact, interact_manual"
   ]
  },
  {
   "cell_type": "code",
   "execution_count": 2,
   "metadata": {},
   "outputs": [],
   "source": [
    "# this cell loads either test data with properties as set by the user or real data and allows to introduce a break\n",
    "def load_data(real=False, trend=0.01, bias=0.1, breaktime=datetime(2012,7,1), \n",
    "              size=(0.2, 1.1), resample=False):\n",
    "    if real:\n",
    "        CAN, REF = load_real_data(707393, breaktime, size, resample)\n",
    "    else:\n",
    "        CAN, REF = load_test_data(trend, bias, breaktime, size, resample, seed=1234)\n",
    "    return CAN, REF"
   ]
  },
  {
   "cell_type": "code",
   "execution_count": 3,
   "metadata": {},
   "outputs": [
    {
     "data": {
      "application/vnd.jupyter.widget-view+json": {
       "model_id": "c31b1d2205244cb597ef011837710dd1",
       "version_major": 2,
       "version_minor": 0
      },
      "text/plain": [
       "aW50ZXJhY3RpdmUoY2hpbGRyZW49KENoZWNrYm94KHZhbHVlPUZhbHNlLCBkZXNjcmlwdGlvbj11J1VTRV9SRUFMX0RBVEEnKSwgRmxvYXRTbGlkZXIodmFsdWU9MC4wMSwgZGVzY3JpcHRpb27igKY=\n"
      ]
     },
     "metadata": {},
     "output_type": "display_data"
    }
   ],
   "source": [
    "@interact(TREND=(0, 0.05, 0.01), BIAS=(-0.5, 0.5, 0.1), BREAK_ADD=(-0.4, 0.4, 0.05), \n",
    "          BREAK_MULT=(0.7, 1.3, 0.05), ALPHA=(0.1,1.,0.1), RESAMPLE=['NONE', 'INPUT', 'OUTPUT'])\n",
    "def HOM(USE_REAL_DATA=False, TESTDATA_TREND=0.01, TESTDATA_BIAS=0.1, BREAK_ADD=0.2, \n",
    "        BREAK_MULT=1.1, ALPHA=0.6, RESAMPLE='NONE'):\n",
    "    \n",
    "    BREAKTIME=datetime(2012,7,1)\n",
    "    size=(BREAK_ADD, BREAK_MULT)\n",
    "    \n",
    "    resample = True if RESAMPLE=='INPUT' else False\n",
    "    CAN, REF = load_data(USE_REAL_DATA, TESTDATA_TREND, TESTDATA_BIAS, BREAKTIME, \n",
    "                         size, resample)\n",
    "    \n",
    "    hom = HigherOrderMoments(CAN, REF, BREAKTIME, regress_resample=None, \n",
    "        bias_corr_method='cdf_match', filter=('both', 5), adjust_group=0, poly_orders=[1,2], \n",
    "        select_by='R', cdf_types=None)\n",
    "    \n",
    "    can_adjusted = hom.adjust(CAN[:BREAKTIME], use_separate_cdf=False, alpha=ALPHA, \n",
    "                              from_bins=False) \n",
    "    \n",
    "    \n",
    "    fig, (ax1,ax2) = plt.subplots(1,2, figsize=(10,4)) \n",
    "    if RESAMPLE == 'OUTPUT':\n",
    "        hom.df_original.resample('M').mean().plot(ax=ax1)\n",
    "    else:\n",
    "        hom.df_original.plot(ax=ax1)\n",
    "    hom.plot_adjustments(ax=ax2)\n",
    "    \n",
    "    fig, (ax1,ax2) = plt.subplots(1, 2, figsize=(10,4))\n",
    "    hom.plot_models(axs=[ax1, ax2])\n",
    "    hom.plot_cdf_compare()\n",
    "    \n",
    "    #hom.cdf_can_train.plot_pdf()\n",
    "    #hom.cdf_can_train.plot_cdf()\n",
    "    #hom._cdf_can_pred.plot_pdf()\n",
    "    #hom._cdf_can_pred.plot_cdf()\n",
    "    #hom._cdf_can_obs.plot_pdf()\n",
    "    #hom._cdf_can_obs.plot_cdf()\n",
    "    #hom.plot_cdf_compare_separate()\n",
    "   "
   ]
  },
  {
   "cell_type": "code",
   "execution_count": null,
   "metadata": {},
   "outputs": [],
   "source": []
  }
 ],
 "metadata": {
  "kernelspec": {
   "display_name": "Python 2",
   "language": "python",
   "name": "python2"
  },
  "language_info": {
   "codemirror_mode": {
    "name": "ipython",
    "version": 2
   },
   "file_extension": ".py",
   "mimetype": "text/x-python",
   "name": "python",
   "nbconvert_exporter": "python",
   "pygments_lexer": "ipython2",
   "version": "2.7.15"
  },
  "pycharm": {
   "stem_cell": {
    "cell_type": "raw",
    "source": [],
    "metadata": {
     "collapsed": false
    }
   }
  }
 },
 "nbformat": 4,
 "nbformat_minor": 2
}