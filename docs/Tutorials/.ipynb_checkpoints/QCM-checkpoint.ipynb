{
 "cells": [
  {
   "cell_type": "code",
   "execution_count": 9,
   "metadata": {},
   "outputs": [],
   "source": [
    "from load_tutorial_data import *\n",
    "from breakadjustment.adjust_freq_quantile_matching import QuantileCatMatch\n",
    "pd.options.display.max_rows=7\n",
    "import matplotlib.pyplot as plt\n",
    "from IPython.display import display\n",
    "import ipywidgets as widgets\n",
    "from ipywidgets import interact, interact_manual"
   ]
  },
  {
   "cell_type": "code",
   "execution_count": 10,
   "metadata": {},
   "outputs": [],
   "source": [
    "# this cell loads either test data with properties as set by the user or real data and allows to introduce a break\n",
    "def load_data(real=False, trend=0.01, bias=0.1, breaktime=datetime(2012,7,1), size=(0.2, 1.1), resample=False):\n",
    "    if real:\n",
    "        CAN, REF = load_real_data(707393, breaktime, size, resample)\n",
    "    else:\n",
    "        CAN, REF = load_test_data(trend, bias, breaktime, size, resample, seed=1234)\n",
    "    return CAN, REF"
   ]
  },
  {
   "cell_type": "code",
   "execution_count": 21,
   "metadata": {},
   "outputs": [
    {
     "data": {
      "application/vnd.jupyter.widget-view+json": {
       "model_id": "71205b0ef898484e9559a7dc0f8abb2c",
       "version_major": 2,
       "version_minor": 0
      },
      "text/plain": [
       "aW50ZXJhY3RpdmUoY2hpbGRyZW49KENoZWNrYm94KHZhbHVlPUZhbHNlLCBkZXNjcmlwdGlvbj11J1VTRV9SRUFMX0RBVEEnKSwgRmxvYXRTbGlkZXIodmFsdWU9MC4wMSwgZGVzY3JpcHRpb27igKY=\n"
      ]
     },
     "metadata": {},
     "output_type": "display_data"
    }
   ],
   "source": [
    "@interact(TREND=(0, 0.05, 0.01), BIAS=(-0.5, 0.5, 0.1), BREAK_ADD=(-0.4, 0.4, 0.05), \n",
    "          BREAK_MULT=(0.7, 1.3, 0.05), QUANTILE_CATEGORIES=(1,12,1), RESAMPLE=['NONE', 'INPUT', 'OUTPUT'])\n",
    "def QCM(USE_REAL_DATA=False, TESTDATA_TREND=0.01, TESTDATA_BIAS=0.1, BREAK_ADD=0.2, BREAK_MULT=1.1, \n",
    "        QUANTILE_CATEGORIES=4, RESAMPLE='NONE'):\n",
    "    \n",
    "    BREAKTIME=datetime(2016,12,31)\n",
    "    size=(BREAK_ADD, BREAK_MULT)\n",
    "    \n",
    "    CAN, REF = load_data(USE_REAL_DATA, TESTDATA_TREND, TESTDATA_BIAS, BREAKTIME, size)\n",
    "    \n",
    "    qcm = QuantileCatMatch(CAN, REF, BREAKTIME, bias_corr_method='cdf_match', adjust_group=0, \n",
    "                           n_quantiles=QUANTILE_CATEGORIES, \n",
    "                           first_last='formula', fit='mean')\n",
    "    \n",
    "    can_adjusted = qcm.adjust(CAN[:BREAKTIME], interpolation_method='cubic')\n",
    "\n",
    "    \n",
    "    fig, (ax1,ax2) = plt.subplots(1,2, figsize=(10,4)) \n",
    "    if RESAMPLE == 'OUTPUT':\n",
    "        qcm.df_original.resample('M').mean().plot(ax=ax1)\n",
    "    else:\n",
    "        qcm.df_original.plot(ax=ax1)\n",
    "    \n",
    "    qcm.plot_cdf_compare(ax=ax2)\n",
    "\n",
    "    qcm.plot_models()\n",
    "    \n",
    "        \n"
   ]
  },
  {
   "cell_type": "code",
   "execution_count": null,
   "metadata": {},
   "outputs": [],
   "source": []
  }
 ],
 "metadata": {
  "kernelspec": {
   "display_name": "Python 2",
   "language": "python",
   "name": "python2"
  },
  "language_info": {
   "codemirror_mode": {
    "name": "ipython",
    "version": 2
   },
   "file_extension": ".py",
   "mimetype": "text/x-python",
   "name": "python",
   "nbconvert_exporter": "python",
   "pygments_lexer": "ipython2",
   "version": "2.7.15"
  }
 },
 "nbformat": 4,
 "nbformat_minor": 2
}
