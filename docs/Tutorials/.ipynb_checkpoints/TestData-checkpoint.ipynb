{
 "cells": [
  {
   "cell_type": "markdown",
   "metadata": {},
   "source": [
    "# Test Data Generator and Reader\n",
    "\n"
   ]
  },
  {
   "cell_type": "code",
   "execution_count": null,
   "metadata": {},
   "outputs": [],
   "source": [
    "# import some packages that are used for reading and generating data\n"
   ]
  },
  {
   "cell_type": "code",
   "execution_count": null,
   "metadata": {},
   "outputs": [],
   "source": [
    "import numpy as np\n",
    "import pandas as pd\n",
    "from datetime import datetime\n",
    "import os\n",
    "\n",
    "\"\"\"\n",
    "These functions are used in the tutorials to allow the user to use either artificially generated test data with an introduced break or read real ESA CCI SM and MERRA2 model SM data and then introduce a break.\n",
    "All Tutorials will use these functions to get some data.\n",
    "\"\"\"\n",
    "def load_test_data(trend=0.05, bias=10, breaktime=datetime(2001,12,31), breaksize=(0,0)):\n",
    "    '''\n",
    "    This function creates actificial test data. An additive/multiplicative break can be introduced by the user.\n",
    "    '''\n",
    "    s_seasonality = np.sin(np.linspace(0, 4 * np.pi, 730)) * 10. + 20.\n",
    "    s_trend =  np.linspace(0, 4 * np.pi, 730) * trend\n",
    "\n",
    "    dt_index=pd.date_range(start='2001-01-01', end='2002-12-31', freq='D')\n",
    "    np.random.seed(1234)\n",
    "    rand_can = pd.Series(index=dt_index, data=np.random.rand(730)*10, name='CAN')\n",
    "    np.random.seed(5678)\n",
    "    rand_ref = pd.Series(index=dt_index, data=np.random.rand(730)*10, name='REF')\n",
    "\n",
    "    can = (s_seasonality * (1 + s_trend) + rand_can) + bias\n",
    "    ref = s_seasonality * (1 + s_trend) + rand_ref\n",
    "\n",
    "    # additive and multiplicative relative bias\n",
    "    break_index=can.loc[:breaktime].index\n",
    "    can.loc[break_index] = (can.loc[break_index].values + breaksize[0]) * (1 + breaksize[1])\n",
    "    \n",
    "    return can, ref\n",
    "\n",
    "def load_real_data(gpi=707393, breaktime=datetime(2001,12,31), breaksize=(0,0)):\n",
    "    '''\n",
    "    This function loads real observations from the ESA CCI SM v04.4 COMBINED dataset and the MERRA2 model. \n",
    "    An additive/multiplicative break can be introduced by the user.\n",
    "    GPI is a location identifier for a single cell point in the ESA CCI SM data grid.\n",
    "    '''\n",
    "    # add a few points that can be loaded and used\n",
    "    df = pd.read_csv(os.path.join(os.path.abspath(''), '..', '..', 'tests', 'test-data', 'csv_ts', \n",
    "                                  'SMECVGPI{}.csv'.format(gpi)), index_col=0, parse_dates=True)\n",
    "    df = df.dropna() # drop missing days here so that the tables look nice\n",
    "    can, ref = df['ESA CCI SM v04.4 (COMBINED)'], df['MERRA2 SFMC']\n",
    "    # bias the candidate before the break\n",
    "    can.loc[:breaktime] = (can.loc[:breaktime] * breaksize[1]) + breaksize[0] \n",
    "    return can, ref"
   ]
  }
 ],
 "metadata": {
  "kernelspec": {
   "display_name": "Python 2",
   "language": "python",
   "name": "python2"
  },
  "language_info": {
   "codemirror_mode": {
    "name": "ipython",
    "version": 2
   },
   "file_extension": ".py",
   "mimetype": "text/x-python",
   "name": "python",
   "nbconvert_exporter": "python",
   "pygments_lexer": "ipython2",
   "version": "2.7.15"
  }
 },
 "nbformat": 4,
 "nbformat_minor": 2
}
