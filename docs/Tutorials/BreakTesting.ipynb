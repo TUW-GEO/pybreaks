{
 "cells": [
  {
   "cell_type": "markdown",
   "metadata": {},
   "source": [
    "# TsRelBreakTest\n",
    "\n",
    "This is the module that performs relative, statisitcal tests to detect breaks between 2 parts (before and after a potential break time) of a candidate time series. We detect 2 types of breaks:\n",
    "-Mean Breaks\n",
    "-Variance breaks\n",
    "\n"
   ]
  },
  {
   "cell_type": "code",
   "execution_count": 1,
   "metadata": {},
   "outputs": [],
   "source": [
    "from set_up import *\n",
    "pd.options.display.max_rows=7\n",
    "import matplotlib.pyplot as plt\n",
    "from IPython.display import display\n",
    "import ipywidgets as widgets\n",
    "from ipywidgets import interact, interact_manual\n",
    "\n",
    "# Specific for this module\n",
    "from pybreaks.break_test import TsRelBreakTest"
   ]
  },
  {
   "cell_type": "code",
   "execution_count": 2,
   "metadata": {},
   "outputs": [],
   "source": [
    "# this cell loads either test data with properties as set by the user or real \n",
    "# data and allows to introduce a break\n",
    "def load_data(real=False, trend=0.01, bias=0.1, breaktime=datetime(2012,7,1), \n",
    "              size=(0.2, 1.1), resample=False):\n",
    "    if real:\n",
    "        CAN, REF = load_real_data(707393, breaktime, size, resample)\n",
    "    else:\n",
    "        CAN, REF = load_test_data(trend, bias, breaktime, size, resample, seed=1234)\n",
    "    return CAN, REF"
   ]
  },
  {
   "cell_type": "code",
   "execution_count": 3,
   "metadata": {},
   "outputs": [],
   "source": [
    "# this cell creates wrappers of the plotting functions\n",
    "def plot_ts(test_obj):\n",
    "    # add here the function from the base class for plotting\n",
    "    fig,ax = plt.subplots(1,1)\n",
    "    test_obj.plot_ts(frame=test_obj.df_original, title='Main DataFrame', ax=ax)\n",
    "    ax.grid(color='w', linewidth=2, linestyle='solid')\n",
    "    ax.set_xlabel('X')\n",
    "    ax.set_ylabel('Y')\n",
    "    plt.close('all')\n",
    "    return fig\n",
    "\n",
    "def plot_stats_ts(test_obj):\n",
    "    # add here the function from the base class for plotting\n",
    "    test_obj.plot_ts(frame=test_obj.df_original, title='Main DataFrame')\n",
    "    fig = test_obj.plot_stats_ts(test_obj.df_original, kind='line', \n",
    "                                 save_path=None, title='Main DataFrame Stats')\n",
    "    plt.close('all')\n",
    "    return fig"
   ]
  },
  {
   "cell_type": "code",
   "execution_count": 4,
   "metadata": {},
   "outputs": [
    {
     "data": {
      "application/vnd.jupyter.widget-view+json": {
       "model_id": "def0fb60db2e475d8f7a8238469eeb5d",
       "version_major": 2,
       "version_minor": 0
      },
      "text/plain": [
       "aW50ZXJhY3RpdmUoY2hpbGRyZW49KENoZWNrYm94KHZhbHVlPUZhbHNlLCBkZXNjcmlwdGlvbj11J1VTRV9SRUFMX0RBVEEnKSwgRmxvYXRTbGlkZXIodmFsdWU9MC4wMSwgZGVzY3JpcHRpb27igKY=\n"
      ]
     },
     "metadata": {},
     "output_type": "display_data"
    }
   ],
   "source": [
    "bias_corr_methods = ['linreg', 'mean_std', 'min_max', 'cdf_match']\n",
    "@interact(TREND=(0, 0.05, 0.01), BIAS=(-0.5, 0.5, 0.1), BREAK_ADD=(-0.4, 0.4, 0.05), \n",
    "          BREAK_MULT=(0.7, 1.3, 0.05), BIAS_CORR_METHOD=bias_corr_methods)\n",
    "\n",
    "def BreakTest(USE_REAL_DATA=False, TESTDATA_TREND=0.01, TESTDATA_BIAS=0.1, \n",
    "              BREAK_ADD=0., BREAK_MULT=1., \n",
    "              RESAMPLE=False, BIAS_CORR_METHOD='cdf_match'):\n",
    "    \n",
    "    BREAKTIME=datetime(2012,7,1)\n",
    "    size=(BREAK_ADD, BREAK_MULT)\n",
    "\n",
    "    CAN, REF = load_data(USE_REAL_DATA, TESTDATA_TREND, TESTDATA_BIAS, BREAKTIME, \n",
    "                         size, RESAMPLE)\n",
    "\n",
    "    test = TsRelBreakTest(CAN, REF, BREAKTIME, test_check_spearR_sig=(0, 0.01),\n",
    "                          test_resample=('M', 0.3) if not RESAMPLE else None, # always resample for testing!\n",
    "                          bias_corr_method=BIAS_CORR_METHOD)\n",
    "    \n",
    "    isbreak, breaktype, testresult, errorcode = test.run_tests()\n",
    "    _, error, checkstats = test.get_results()\n",
    "\n",
    "    print('Type of detected break:{}'.format(breaktype if isbreak else 'No Break'))\n",
    "    print(errorcode)\n",
    "    print(error)\n",
    "    print(checkstats)\n",
    "\n",
    "    test.plot_ts(test.df_original) # todo: change colors and add a label of the break type to the TS plot\n",
    "    test.plot_stats_ts(test.df_original, kind='line')\n",
    "    "
   ]
  },
  {
   "cell_type": "code",
   "execution_count": null,
   "metadata": {},
   "outputs": [],
   "source": []
  }
 ],
 "metadata": {
  "kernelspec": {
   "display_name": "Python 2",
   "language": "python",
   "name": "python2"
  },
  "language_info": {
   "codemirror_mode": {
    "name": "ipython",
    "version": 2
   },
   "file_extension": ".py",
   "mimetype": "text/x-python",
   "name": "python",
   "nbconvert_exporter": "python",
   "pygments_lexer": "ipython2",
   "version": "2.7.15"
  },
  "pycharm": {
   "stem_cell": {
    "cell_type": "raw",
    "source": [],
    "metadata": {
     "collapsed": false
    }
   }
  }
 },
 "nbformat": 4,
 "nbformat_minor": 2
}