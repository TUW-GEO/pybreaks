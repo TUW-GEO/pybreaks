{
 "cells": [
  {
   "cell_type": "markdown",
   "metadata": {},
   "source": [
    "# TsRelBreakAdjust\n",
    "\n",
    "Module that combines the break detection/testing and correction with the implemented methods. It also contains input data evaluations before adjustment and verifications of results after adjustment."
   ]
  },
  {
   "cell_type": "code",
   "execution_count": 1,
   "metadata": {},
   "outputs": [],
   "source": [
    "from set_up import *\n",
    "pd.options.display.max_rows=7\n",
    "import matplotlib.pyplot as plt\n",
    "from IPython.display import display\n",
    "import ipywidgets as widgets\n",
    "from ipywidgets import interact, interact_manual\n",
    "\n",
    "# Specific for this module\n",
    "from pybreaks.break_adjust import TsRelBreakAdjust"
   ]
  },
  {
   "cell_type": "code",
   "execution_count": 2,
   "metadata": {},
   "outputs": [],
   "source": [
    "# this cell loads either test data with properties as set by the user or real data and allows to introduce a break\n",
    "def load_data(real=False, trend=0.01, bias=0.1, breaktime=datetime(2012,7,1), \n",
    "              size=(0.2, 1.1), resample=False):\n",
    "    if real:\n",
    "        CAN, REF = load_real_data(707393, breaktime, size, resample)\n",
    "    else:\n",
    "        CAN, REF = load_test_data(trend, bias, breaktime, size, resample, seed=1234)\n",
    "    return CAN, REF"
   ]
  },
  {
   "cell_type": "code",
   "execution_count": 3,
   "metadata": {},
   "outputs": [
    {
     "data": {
      "application/vnd.jupyter.widget-view+json": {
       "model_id": "f8fbe843933d447d9b302401b8953fc7",
       "version_major": 2,
       "version_minor": 0
      },
      "text/plain": [
       "aW50ZXJhY3RpdmUoY2hpbGRyZW49KENoZWNrYm94KHZhbHVlPUZhbHNlLCBkZXNjcmlwdGlvbj11J1VTRV9SRUFMX0RBVEEnKSwgVGV4dCh2YWx1ZT11J0xNUCcsIGRlc2NyaXB0aW9uPXUnQUTigKY=\n"
      ]
     },
     "metadata": {},
     "output_type": "display_data"
    }
   ],
   "source": [
    "bias_corr_methods = ['linreg', 'mean_std', 'min_max', 'cdf_match']\n",
    "@interact(BIAS_CORR_METHOD=bias_corr_methods, ADJUST_GROUP=[0,1], \n",
    "          BREAK_ADD=(-0.4, 0.4, 0.05),BREAK_MULT=(0.7, 1.3, 0.05), \n",
    "          RESAMPLE=['NONE', 'INPUT', 'OUTPUT'])\n",
    "\n",
    "def BreakAdjustLMP(USE_REAL_DATA=False, BIAS_CORR_METHOD='cdf_match', \n",
    "                   ADJUST_TF_ONLY=False, ADJUST_GROUP=0, BREAK_ADD=0.2, BREAK_MULT=1.1, RESAMPLE='NONE'):\n",
    "    \n",
    "    BREAKTIME=datetime(2012,7,1)\n",
    "    TIMEFRAME = [datetime(2011,1,1), datetime(2017,1,1)]\n",
    "    size=(BREAK_ADD, BREAK_MULT)\n",
    "    \n",
    "    resample = True if RESAMPLE=='INPUT' else False\n",
    "    CAN, REF = load_data(USE_REAL_DATA, 0.01, 0.1, BREAKTIME, size, resample)\n",
    "    \n",
    "    \n",
    "    test_kwargs = dict([('test_resample', ('M', 0.3)),\n",
    "                        ('mean_test', 'wilkoxon'),\n",
    "                        ('var_test', 'scipy_fligner_killeen'),\n",
    "                        ('alpha', 0.01),\n",
    "                        ('test_check_min_data', 5),\n",
    "                        ('test_check_spearR_sig', [0, 0.01])])\n",
    "    \n",
    "    adjmodel_kwargs = dict([('regress_resample', None),\n",
    "                            ('model_intercept', True),\n",
    "                            ('filter', ('both', 5))])\n",
    "\n",
    "    adjfct_kwargs = dict([('corrections_from_core', True),\n",
    "                          ('values_to_adjust_freq', 'D'),\n",
    "                          ('resample_corrections', True),\n",
    "                          ('interpolation_method', 'linear')])\n",
    "        \n",
    "                        \n",
    "    adjust = TsRelBreakAdjust(CAN, REF, BREAKTIME, adjustment_method='LMP', candidate_flags=None, \n",
    "                              timeframe=TIMEFRAME, bias_corr_method=BIAS_CORR_METHOD, adjust_tf_only=ADJUST_TF_ONLY, \n",
    "                              adjust_group=ADJUST_GROUP, input_resolution='M' if resample else 'D',\n",
    "                              adjust_check_pearsR_sig=(0,1), adjust_check_min_group_range=0, \n",
    "                              adjust_check_ppcheck=(False,False), create_model_plots=False, test_kwargs=test_kwargs,\n",
    "                              adjmodel_kwargs=adjmodel_kwargs)\n",
    "\n",
    "    print(adjust.isbreak, adjust.breaktype)\n",
    "    \n",
    "    adjust.test_and_adjust(min_iter=None, max_iter=3, correct_below_0=True, **adjfct_kwargs)\n",
    "    \n",
    "    data_adjusted, stillbreak, error = adjust.get_adjusted()\n",
    "    \n",
    "    print(stillbreak, error)\n",
    "    \n",
    "    test_results_b4, models_ifirst, test_results_aft, models_ilast, \\\n",
    "    group_stats, group_metrics, metrics_change, checkstats = adjust.get_results()\n",
    "    \n",
    "    adjust.plot_adj_ts()\n",
    "    ##adjust.plot_adj_stats_ts()\n",
    "    \n",
    "    ##plotting##\n",
    "    fig, (ax1) = plt.subplots(1,1, figsize=(15,4)) \n",
    "    if RESAMPLE == 'OUTPUT':\n",
    "        adjust.df_original.resample('M').mean().plot(ax=ax1)\n",
    "    else:\n",
    "        adjust.df_original.plot(ax=ax1)\n",
    "   "
   ]
  },
  {
   "cell_type": "code",
   "execution_count": 4,
   "metadata": {},
   "outputs": [
    {
     "data": {
      "application/vnd.jupyter.widget-view+json": {
       "model_id": "937eb41e1a174227975eaf85793c46a4",
       "version_major": 2,
       "version_minor": 0
      },
      "text/plain": [
       "aW50ZXJhY3RpdmUoY2hpbGRyZW49KENoZWNrYm94KHZhbHVlPUZhbHNlLCBkZXNjcmlwdGlvbj11J1VTRV9SRUFMX0RBVEEnKSwgRHJvcGRvd24oZGVzY3JpcHRpb249dSdCSUFTX0NPUlJfTUXigKY=\n"
      ]
     },
     "metadata": {},
     "output_type": "display_data"
    }
   ],
   "source": [
    "bias_corr_methods = ['linreg', 'mean_std', 'min_max', 'cdf_match']\n",
    "@interact(BIAS_CORR_METHOD=bias_corr_methods, ADJUST_GROUP=[0,1], \n",
    "          BREAK_ADD=(-0.4, 0.4, 0.05),BREAK_MULT=(0.7, 1.3, 0.05), \n",
    "          RESAMPLE=['NONE', 'INPUT', 'OUTPUT'])\n",
    "\n",
    "def BreakAdjustHOM(USE_REAL_DATA=False, BIAS_CORR_METHOD='cdf_match', \n",
    "                   ADJUST_TF_ONLY=False, ADJUST_GROUP=0, BREAK_ADD=0.2, \n",
    "                   BREAK_MULT=1.1, RESAMPLE='NONE'):\n",
    "    \n",
    "    BREAKTIME=datetime(2012,7,1)\n",
    "    TIMEFRAME = [datetime(2011,1,1), datetime(2017,1,1)]\n",
    "    size=(BREAK_ADD, BREAK_MULT)\n",
    "    \n",
    "    resample = True if RESAMPLE=='INPUT' else False\n",
    "    CAN, REF = load_data(USE_REAL_DATA, 0.01, 0.1, BREAKTIME, size, resample)\n",
    "    \n",
    "    \n",
    "    test_kwargs = dict([('test_resample', ('M', 0.3)),\n",
    "                        ('mean_test', 'wilkoxon'),\n",
    "                        ('var_test', 'scipy_fligner_killeen'),\n",
    "                        ('alpha', 0.01),\n",
    "                        ('test_check_min_data', 5),\n",
    "                        ('test_check_spearR_sig', [0, 0.01])])\n",
    "\n",
    "    adjmodel_kwargs = dict([('regress_resample', None),\n",
    "                            ('filter', ('both', 5)),\n",
    "                            ('poly_orders', [1,2]),\n",
    "                            ('select_by', 'R'),\n",
    "                            ('cdf_types', None)])\n",
    "\n",
    "    adjfct_kwargs = {'alpha': 0.6,\n",
    "                     'use_separate_cdf': False,\n",
    "                     'from_bins': False}\n",
    "    \n",
    "    adjust = TsRelBreakAdjust(CAN, REF, BREAKTIME, adjustment_method='HOM', candidate_flags=None, \n",
    "                              timeframe=TIMEFRAME, bias_corr_method=BIAS_CORR_METHOD, adjust_tf_only=ADJUST_TF_ONLY, \n",
    "                              adjust_group=ADJUST_GROUP, input_resolution='M' if resample else 'D',\n",
    "                              adjust_check_pearsR_sig=(0,1), adjust_check_min_group_range=0, \n",
    "                              adjust_check_ppcheck=(False,False), create_model_plots=True, test_kwargs=test_kwargs,\n",
    "                              adjmodel_kwargs=adjmodel_kwargs)\n",
    "\n",
    "    print(adjust.isbreak, adjust.breaktype)\n",
    "    \n",
    "    adjust.test_and_adjust(min_iter=None, max_iter=3, correct_below_0=True, **adjfct_kwargs)\n",
    "    \n",
    "    data_adjusted, stillbreak, error = adjust.get_adjusted()\n",
    "    \n",
    "    print(stillbreak, error)\n",
    "    \n",
    "    test_results_b4, models_ifirst, test_results_aft, models_ilast, \\\n",
    "    group_stats, group_metrics, metrics_change, checkstats = adjust.get_results()\n",
    "                              \n",
    "    \n",
    "    ##plotting##\n",
    "    fig, (ax1) = plt.subplots(1,1, figsize=(15,4)) \n",
    "    if RESAMPLE == 'OUTPUT':\n",
    "        adjust.df_original.resample('M').mean().plot(ax=ax1)\n",
    "    else:\n",
    "        adjust.df_original.plot(ax=ax1)\n",
    "        \n",
    "    '''\n",
    "    \n",
    "    fig, (ax1,ax2) = plt.subplots(1, 2, figsize=(15,4))\n",
    "    lmp.plot_models(axs=[ax1, ax2])\n",
    "    \n",
    "    fig, (ax1, ax2) = plt.subplots(1,2, figsize=(15,4))\n",
    "    lmp.plot_adjustments(ax=ax2)\n",
    "    '''\n",
    "   "
   ]
  },
  {
   "cell_type": "code",
   "execution_count": 5,
   "metadata": {},
   "outputs": [
    {
     "data": {
      "application/vnd.jupyter.widget-view+json": {
       "model_id": "cbca149158e54f85ac614e68b028164a",
       "version_major": 2,
       "version_minor": 0
      },
      "text/plain": [
       "aW50ZXJhY3RpdmUoY2hpbGRyZW49KENoZWNrYm94KHZhbHVlPUZhbHNlLCBkZXNjcmlwdGlvbj11J1VTRV9SRUFMX0RBVEEnKSwgRHJvcGRvd24oZGVzY3JpcHRpb249dSdCSUFTX0NPUlJfTUXigKY=\n"
      ]
     },
     "metadata": {},
     "output_type": "display_data"
    }
   ],
   "source": [
    "bias_corr_methods = ['linreg', 'mean_std', 'min_max', 'cdf_match']\n",
    "@interact(BIAS_CORR_METHOD=bias_corr_methods, ADJUST_GROUP=[0,1], \n",
    "          BREAK_ADD=(-0.4, 0.4, 0.05),BREAK_MULT=(0.7, 1.3, 0.05), \n",
    "          RESAMPLE=['NONE', 'INPUT', 'OUTPUT'])\n",
    "\n",
    "def BreakAdjustQCM(USE_REAL_DATA=False, BIAS_CORR_METHOD='cdf_match', \n",
    "                   ADJUST_TF_ONLY=False, ADJUST_GROUP=0, BREAK_ADD=0.2, \n",
    "                   BREAK_MULT=1.1, RESAMPLE='NONE'):\n",
    "    \n",
    "    BREAKTIME=datetime(2012,7,1)\n",
    "    TIMEFRAME = [datetime(2010,1,1), datetime(2017,1,1)]\n",
    "    size=(BREAK_ADD, BREAK_MULT)\n",
    "    \n",
    "    resample = True if RESAMPLE=='INPUT' else False\n",
    "    CAN, REF = load_data(USE_REAL_DATA, 0.01, 0.1, BREAKTIME, size, resample)\n",
    "    \n",
    "    \n",
    "    test_kwargs = dict([('test_resample', ('M', 0.3)),\n",
    "                        ('mean_test', 'wilkoxon'),\n",
    "                        ('var_test', 'scipy_fligner_killeen'),\n",
    "                        ('alpha', 0.01),\n",
    "                        ('test_check_min_data', 5),\n",
    "                        ('test_check_spearR_sig', [0, 0.01])])\n",
    "    \n",
    "    adjmodel_kwargs = dict([('categories', 4),\n",
    "                            ('first_last', 'formula'),\n",
    "                            ('fit', 'mean')])\n",
    "\n",
    "    adjfct_kwargs = {'interpolation_method': 'cubic'}\n",
    "    \n",
    "\n",
    "                        \n",
    "    adjust = TsRelBreakAdjust(CAN, REF, BREAKTIME, adjustment_method='QCM', candidate_flags=None, \n",
    "                              timeframe=TIMEFRAME, bias_corr_method=BIAS_CORR_METHOD, adjust_tf_only=ADJUST_TF_ONLY, \n",
    "                              adjust_group=ADJUST_GROUP, input_resolution='M' if resample else 'D',\n",
    "                              adjust_check_pearsR_sig=(0,1), adjust_check_min_group_range=0, \n",
    "                              adjust_check_ppcheck=(False,False), create_model_plots=True, test_kwargs=test_kwargs,\n",
    "                              adjmodel_kwargs=adjmodel_kwargs)\n",
    "\n",
    "    print(adjust.isbreak, adjust.breaktype)\n",
    "    \n",
    "    adjust.test_and_adjust(min_iter=None, max_iter=3, correct_below_0=True, **adjfct_kwargs)\n",
    "    \n",
    "    data_adjusted, stillbreak, error = adjust.get_adjusted()\n",
    "    \n",
    "    print(stillbreak, error)\n",
    "    \n",
    "    test_results_b4, models_ifirst, test_results_aft, models_ilast, \\\n",
    "    group_stats, group_metrics, metrics_change, checkstats = adjust.get_results()\n",
    "                              \n",
    "    \n",
    "    ##plotting##\n",
    "    fig, (ax1) = plt.subplots(1,1, figsize=(15,4)) \n",
    "    if RESAMPLE == 'OUTPUT':\n",
    "        adjust.df_original.resample('M').mean().plot(ax=ax1)\n",
    "    else:\n",
    "        adjust.df_original.plot(ax=ax1)\n",
    "        \n",
    "    '''\n",
    "    \n",
    "    fig, (ax1,ax2) = plt.subplots(1, 2, figsize=(15,4))\n",
    "    lmp.plot_models(axs=[ax1, ax2])\n",
    "    \n",
    "    fig, (ax1, ax2) = plt.subplots(1,2, figsize=(15,4))\n",
    "    lmp.plot_adjustments(ax=ax2)\n",
    "    '''\n",
    "   "
   ]
  },
  {
   "cell_type": "code",
   "execution_count": null,
   "metadata": {},
   "outputs": [],
   "source": []
  }
 ],
 "metadata": {
  "kernelspec": {
   "display_name": "Python 2",
   "language": "python",
   "name": "python2"
  },
  "language_info": {
   "codemirror_mode": {
    "name": "ipython",
    "version": 2
   },
   "file_extension": ".py",
   "mimetype": "text/x-python",
   "name": "python",
   "nbconvert_exporter": "python",
   "pygments_lexer": "ipython2",
   "version": "2.7.15"
  },
  "pycharm": {
   "stem_cell": {
    "cell_type": "raw",
    "source": [],
    "metadata": {
     "collapsed": false
    }
   }
  }
 },
 "nbformat": 4,
 "nbformat_minor": 2
}